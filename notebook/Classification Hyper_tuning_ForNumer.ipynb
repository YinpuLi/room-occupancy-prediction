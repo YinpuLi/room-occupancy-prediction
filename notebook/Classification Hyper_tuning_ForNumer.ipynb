{
 "cells": [
  {
   "cell_type": "code",
   "execution_count": 1,
   "id": "f51cb2e5-2516-4205-a366-8e767d062b5d",
   "metadata": {
    "tags": []
   },
   "outputs": [],
   "source": [
    "import pandas as pd\n",
    "import numpy as np\n",
    "import os\n",
    "import sys\n",
    "import xgboost as xgb\n",
    "import lightgbm as lgb\n",
    "from sklearn.ensemble import RandomForestClassifier\n",
    "from sklearn.model_selection import GridSearchCV\n",
    "from sklearn.metrics import make_scorer, mean_squared_error\n",
    "from sklearn.discriminant_analysis import LinearDiscriminantAnalysis\n",
    "from sklearn.svm import SVC\n",
    "\n",
    "from sklearn.preprocessing import StandardScaler, OneHotEncoder\n",
    "from sklearn.compose import ColumnTransformer\n",
    "import json\n",
    "\n",
    "import warnings\n",
    "warnings.filterwarnings(\"ignore\", category=DeprecationWarning)\n"
   ]
  },
  {
   "cell_type": "code",
   "execution_count": 2,
   "id": "2509357c-3a09-4826-866c-3c417dd3ddd1",
   "metadata": {
    "tags": []
   },
   "outputs": [],
   "source": [
    "os.chdir('../')\n",
    "os.getcwd()\n",
    "\n",
    "# root_dir = os.path.abspath(os.path.join(os.path.dirname(__file__), '..'))\n",
    "# sys.path.append(root_dir)\n",
    "\n",
    "from utils.utils     import *\n",
    "from utils.constants import *\n",
    "from utils.metrics   import *\n",
    "from src.model_tuning import *"
   ]
  },
  {
   "cell_type": "code",
   "execution_count": 3,
   "id": "1622ff05-5d37-48ff-ac1a-67076fad4b37",
   "metadata": {
    "tags": []
   },
   "outputs": [],
   "source": [
    "path_ = os.getcwd()"
   ]
  },
  {
   "cell_type": "code",
   "execution_count": 4,
   "id": "ca04fe19-ec09-40fe-8d07-9d01d4678c9c",
   "metadata": {
    "tags": []
   },
   "outputs": [
    {
     "data": {
      "text/plain": [
       "'F:\\\\2022_Paper_03232023\\\\10 Room Occupancy Estimation\\\\Code'"
      ]
     },
     "execution_count": 4,
     "metadata": {},
     "output_type": "execute_result"
    }
   ],
   "source": [
    "os.getcwd()"
   ]
  },
  {
   "cell_type": "code",
   "execution_count": 5,
   "id": "7f9ae3bd-51d3-413f-a932-9fe44f9f2d3e",
   "metadata": {
    "tags": []
   },
   "outputs": [],
   "source": [
    "\n",
    "y_train = pd.read_csv(path_ + '\\\\data' + '\\\\y_train.csv')\n",
    "\n",
    "y_test = pd.read_csv(path_ + '\\\\data' + '\\\\y_test.csv')\n",
    "\n",
    "\n",
    "stack_train = pd.read_csv(path_ + '\\\\data' + '\\\\X_train.csv')\n",
    "stack_test  = pd.read_csv(path_ + '\\\\data' + '\\\\X_test.csv')\n",
    "\n",
    "\n",
    "# y_train = pd.read_csv(get_absolute_path('y_train.csv', 'data'))\n",
    "# y_test = pd.read_csv(get_absolute_path('y_test.csv', 'data'))\n",
    "\n",
    "\n",
    "# stack_train = pd.read_csv(get_absolute_path('stacked_X_tr.csv', 'data'))\n",
    "# stack_test  = pd.read_csv(get_absolute_path('stacked_X_te.csv', 'data'))\n",
    "\n",
    "\n"
   ]
  },
  {
   "cell_type": "code",
   "execution_count": 6,
   "id": "071282d0-6133-4c83-8f78-b62e33313b5f",
   "metadata": {
    "tags": []
   },
   "outputs": [
    {
     "data": {
      "text/html": [
       "<div>\n",
       "<style scoped>\n",
       "    .dataframe tbody tr th:only-of-type {\n",
       "        vertical-align: middle;\n",
       "    }\n",
       "\n",
       "    .dataframe tbody tr th {\n",
       "        vertical-align: top;\n",
       "    }\n",
       "\n",
       "    .dataframe thead th {\n",
       "        text-align: right;\n",
       "    }\n",
       "</style>\n",
       "<table border=\"1\" class=\"dataframe\">\n",
       "  <thead>\n",
       "    <tr style=\"text-align: right;\">\n",
       "      <th></th>\n",
       "      <th>S1_Temp</th>\n",
       "      <th>S2_Temp</th>\n",
       "      <th>S3_Temp</th>\n",
       "      <th>S4_Temp</th>\n",
       "      <th>S1_Light</th>\n",
       "      <th>S2_Light</th>\n",
       "      <th>S3_Light</th>\n",
       "      <th>S4_Light</th>\n",
       "      <th>S1_Sound</th>\n",
       "      <th>S2_Sound</th>\n",
       "      <th>S3_Sound</th>\n",
       "      <th>S4_Sound</th>\n",
       "      <th>S5_CO2</th>\n",
       "      <th>S5_CO2_Slope</th>\n",
       "      <th>S6_PIR</th>\n",
       "      <th>S7_PIR</th>\n",
       "    </tr>\n",
       "  </thead>\n",
       "  <tbody>\n",
       "    <tr>\n",
       "      <th>0</th>\n",
       "      <td>25.19</td>\n",
       "      <td>25.19</td>\n",
       "      <td>24.63</td>\n",
       "      <td>25.56</td>\n",
       "      <td>0</td>\n",
       "      <td>0</td>\n",
       "      <td>0</td>\n",
       "      <td>0</td>\n",
       "      <td>0.08</td>\n",
       "      <td>0.05</td>\n",
       "      <td>0.06</td>\n",
       "      <td>0.05</td>\n",
       "      <td>360</td>\n",
       "      <td>0.000000</td>\n",
       "      <td>0</td>\n",
       "      <td>0</td>\n",
       "    </tr>\n",
       "    <tr>\n",
       "      <th>1</th>\n",
       "      <td>25.38</td>\n",
       "      <td>25.38</td>\n",
       "      <td>24.81</td>\n",
       "      <td>25.75</td>\n",
       "      <td>0</td>\n",
       "      <td>0</td>\n",
       "      <td>0</td>\n",
       "      <td>0</td>\n",
       "      <td>0.07</td>\n",
       "      <td>0.05</td>\n",
       "      <td>0.06</td>\n",
       "      <td>0.06</td>\n",
       "      <td>365</td>\n",
       "      <td>0.000000</td>\n",
       "      <td>0</td>\n",
       "      <td>0</td>\n",
       "    </tr>\n",
       "    <tr>\n",
       "      <th>2</th>\n",
       "      <td>25.56</td>\n",
       "      <td>25.63</td>\n",
       "      <td>25.31</td>\n",
       "      <td>25.69</td>\n",
       "      <td>0</td>\n",
       "      <td>0</td>\n",
       "      <td>0</td>\n",
       "      <td>0</td>\n",
       "      <td>0.07</td>\n",
       "      <td>0.05</td>\n",
       "      <td>0.05</td>\n",
       "      <td>0.08</td>\n",
       "      <td>530</td>\n",
       "      <td>-2.592308</td>\n",
       "      <td>0</td>\n",
       "      <td>0</td>\n",
       "    </tr>\n",
       "    <tr>\n",
       "      <th>3</th>\n",
       "      <td>25.50</td>\n",
       "      <td>25.50</td>\n",
       "      <td>25.06</td>\n",
       "      <td>25.88</td>\n",
       "      <td>0</td>\n",
       "      <td>0</td>\n",
       "      <td>0</td>\n",
       "      <td>0</td>\n",
       "      <td>0.07</td>\n",
       "      <td>0.04</td>\n",
       "      <td>0.07</td>\n",
       "      <td>0.06</td>\n",
       "      <td>390</td>\n",
       "      <td>-0.642308</td>\n",
       "      <td>0</td>\n",
       "      <td>0</td>\n",
       "    </tr>\n",
       "    <tr>\n",
       "      <th>4</th>\n",
       "      <td>25.38</td>\n",
       "      <td>25.38</td>\n",
       "      <td>24.88</td>\n",
       "      <td>25.75</td>\n",
       "      <td>0</td>\n",
       "      <td>0</td>\n",
       "      <td>0</td>\n",
       "      <td>0</td>\n",
       "      <td>0.07</td>\n",
       "      <td>0.05</td>\n",
       "      <td>0.06</td>\n",
       "      <td>0.10</td>\n",
       "      <td>355</td>\n",
       "      <td>0.000000</td>\n",
       "      <td>0</td>\n",
       "      <td>0</td>\n",
       "    </tr>\n",
       "    <tr>\n",
       "      <th>...</th>\n",
       "      <td>...</td>\n",
       "      <td>...</td>\n",
       "      <td>...</td>\n",
       "      <td>...</td>\n",
       "      <td>...</td>\n",
       "      <td>...</td>\n",
       "      <td>...</td>\n",
       "      <td>...</td>\n",
       "      <td>...</td>\n",
       "      <td>...</td>\n",
       "      <td>...</td>\n",
       "      <td>...</td>\n",
       "      <td>...</td>\n",
       "      <td>...</td>\n",
       "      <td>...</td>\n",
       "      <td>...</td>\n",
       "    </tr>\n",
       "    <tr>\n",
       "      <th>8098</th>\n",
       "      <td>25.31</td>\n",
       "      <td>25.31</td>\n",
       "      <td>25.13</td>\n",
       "      <td>25.88</td>\n",
       "      <td>17</td>\n",
       "      <td>20</td>\n",
       "      <td>75</td>\n",
       "      <td>54</td>\n",
       "      <td>0.07</td>\n",
       "      <td>0.05</td>\n",
       "      <td>0.06</td>\n",
       "      <td>0.09</td>\n",
       "      <td>355</td>\n",
       "      <td>0.000000</td>\n",
       "      <td>0</td>\n",
       "      <td>0</td>\n",
       "    </tr>\n",
       "    <tr>\n",
       "      <th>8099</th>\n",
       "      <td>25.13</td>\n",
       "      <td>25.13</td>\n",
       "      <td>24.56</td>\n",
       "      <td>25.44</td>\n",
       "      <td>5</td>\n",
       "      <td>5</td>\n",
       "      <td>28</td>\n",
       "      <td>19</td>\n",
       "      <td>0.07</td>\n",
       "      <td>0.04</td>\n",
       "      <td>0.06</td>\n",
       "      <td>0.06</td>\n",
       "      <td>360</td>\n",
       "      <td>0.000000</td>\n",
       "      <td>0</td>\n",
       "      <td>0</td>\n",
       "    </tr>\n",
       "    <tr>\n",
       "      <th>8100</th>\n",
       "      <td>25.06</td>\n",
       "      <td>25.06</td>\n",
       "      <td>24.63</td>\n",
       "      <td>25.50</td>\n",
       "      <td>9</td>\n",
       "      <td>10</td>\n",
       "      <td>45</td>\n",
       "      <td>30</td>\n",
       "      <td>0.07</td>\n",
       "      <td>0.04</td>\n",
       "      <td>0.06</td>\n",
       "      <td>0.09</td>\n",
       "      <td>355</td>\n",
       "      <td>0.000000</td>\n",
       "      <td>0</td>\n",
       "      <td>0</td>\n",
       "    </tr>\n",
       "    <tr>\n",
       "      <th>8101</th>\n",
       "      <td>26.31</td>\n",
       "      <td>26.69</td>\n",
       "      <td>26.06</td>\n",
       "      <td>26.44</td>\n",
       "      <td>150</td>\n",
       "      <td>236</td>\n",
       "      <td>180</td>\n",
       "      <td>10</td>\n",
       "      <td>1.03</td>\n",
       "      <td>0.27</td>\n",
       "      <td>0.23</td>\n",
       "      <td>0.11</td>\n",
       "      <td>1160</td>\n",
       "      <td>3.165385</td>\n",
       "      <td>0</td>\n",
       "      <td>1</td>\n",
       "    </tr>\n",
       "    <tr>\n",
       "      <th>8102</th>\n",
       "      <td>25.31</td>\n",
       "      <td>25.31</td>\n",
       "      <td>24.88</td>\n",
       "      <td>25.75</td>\n",
       "      <td>0</td>\n",
       "      <td>0</td>\n",
       "      <td>0</td>\n",
       "      <td>0</td>\n",
       "      <td>0.07</td>\n",
       "      <td>0.05</td>\n",
       "      <td>0.06</td>\n",
       "      <td>0.09</td>\n",
       "      <td>355</td>\n",
       "      <td>0.000000</td>\n",
       "      <td>0</td>\n",
       "      <td>0</td>\n",
       "    </tr>\n",
       "  </tbody>\n",
       "</table>\n",
       "<p>8103 rows × 16 columns</p>\n",
       "</div>"
      ],
      "text/plain": [
       "      S1_Temp  S2_Temp  S3_Temp  S4_Temp  S1_Light  S2_Light  S3_Light  \\\n",
       "0       25.19    25.19    24.63    25.56         0         0         0   \n",
       "1       25.38    25.38    24.81    25.75         0         0         0   \n",
       "2       25.56    25.63    25.31    25.69         0         0         0   \n",
       "3       25.50    25.50    25.06    25.88         0         0         0   \n",
       "4       25.38    25.38    24.88    25.75         0         0         0   \n",
       "...       ...      ...      ...      ...       ...       ...       ...   \n",
       "8098    25.31    25.31    25.13    25.88        17        20        75   \n",
       "8099    25.13    25.13    24.56    25.44         5         5        28   \n",
       "8100    25.06    25.06    24.63    25.50         9        10        45   \n",
       "8101    26.31    26.69    26.06    26.44       150       236       180   \n",
       "8102    25.31    25.31    24.88    25.75         0         0         0   \n",
       "\n",
       "      S4_Light  S1_Sound  S2_Sound  S3_Sound  S4_Sound  S5_CO2  S5_CO2_Slope  \\\n",
       "0            0      0.08      0.05      0.06      0.05     360      0.000000   \n",
       "1            0      0.07      0.05      0.06      0.06     365      0.000000   \n",
       "2            0      0.07      0.05      0.05      0.08     530     -2.592308   \n",
       "3            0      0.07      0.04      0.07      0.06     390     -0.642308   \n",
       "4            0      0.07      0.05      0.06      0.10     355      0.000000   \n",
       "...        ...       ...       ...       ...       ...     ...           ...   \n",
       "8098        54      0.07      0.05      0.06      0.09     355      0.000000   \n",
       "8099        19      0.07      0.04      0.06      0.06     360      0.000000   \n",
       "8100        30      0.07      0.04      0.06      0.09     355      0.000000   \n",
       "8101        10      1.03      0.27      0.23      0.11    1160      3.165385   \n",
       "8102         0      0.07      0.05      0.06      0.09     355      0.000000   \n",
       "\n",
       "      S6_PIR  S7_PIR  \n",
       "0          0       0  \n",
       "1          0       0  \n",
       "2          0       0  \n",
       "3          0       0  \n",
       "4          0       0  \n",
       "...      ...     ...  \n",
       "8098       0       0  \n",
       "8099       0       0  \n",
       "8100       0       0  \n",
       "8101       0       1  \n",
       "8102       0       0  \n",
       "\n",
       "[8103 rows x 16 columns]"
      ]
     },
     "execution_count": 6,
     "metadata": {},
     "output_type": "execute_result"
    }
   ],
   "source": [
    "stack_train"
   ]
  },
  {
   "cell_type": "code",
   "execution_count": 7,
   "id": "bc226add-8520-47f1-a703-a5371ff208c4",
   "metadata": {
    "tags": []
   },
   "outputs": [],
   "source": [
    "\n",
    "# stack_train = stack_train.astype(column_data_extended_types)\n",
    "# stack_test = stack_test.astype(column_data_extended_types)"
   ]
  },
  {
   "cell_type": "code",
   "execution_count": 8,
   "id": "9e6343cf-72e5-4b60-9901-c6e21d257b02",
   "metadata": {
    "tags": []
   },
   "outputs": [],
   "source": [
    "######## Feature Engineering ##########\n",
    "\n",
    "# Select numeric and categorical columns\n",
    "numeric_columns = stack_train.select_dtypes(include=['float64', 'int64']).columns\n",
    "\n",
    "categorical_columns = [#'Date', \n",
    "                       # 'Location_ID',\n",
    "                    #    'Year',\n",
    "                       # 'Month',\n",
    "                       # 'Week',\n",
    "                       # 'Weekday',\n",
    "                       # 'Season'\n",
    "                       ]  # Add any categorical columns here\n",
    "\n",
    "\n",
    "# Create preprocessing transformers\n",
    "numeric_transformer = StandardScaler(with_mean = False, with_std = False)  # we can use other scalers as well\n",
    "categorical_transformer = OneHotEncoder(drop=None)  # Use one-hot encoding for categorical columns\n",
    "\n",
    "\n",
    "\n",
    "# Create a column transformer\n",
    "preprocessor = ColumnTransformer(\n",
    "    transformers=[\n",
    "        ('num', numeric_transformer, numeric_columns),\n",
    "        ('cat', categorical_transformer, categorical_columns)\n",
    "    ]\n",
    ")\n",
    "\n",
    "# Fit the preprocessor on training data and transform both train and test data\n",
    "X_train_preprocessed = preprocessor.fit_transform(stack_train)\n",
    "X_test_preprocessed  = preprocessor.transform(stack_test)"
   ]
  },
  {
   "cell_type": "code",
   "execution_count": 9,
   "id": "06893c02-4ebc-415c-a2a3-672f5012c14b",
   "metadata": {
    "tags": []
   },
   "outputs": [
    {
     "data": {
      "text/plain": [
       "array([[-0.74401722, -0.60102236, -0.98929699, ...,  0.01289966,\n",
       "        -0.31109253, -0.29159811],\n",
       "       [-0.20331256, -0.28002188, -0.56870866, ...,  0.01289966,\n",
       "        -0.31109253, -0.29159811],\n",
       "       [ 0.30893395,  0.14234718,  0.59959229, ..., -2.20336051,\n",
       "        -0.31109253, -0.29159811],\n",
       "       ...,\n",
       "       [-1.11397304, -0.82065427, -0.98929699, ...,  0.01289966,\n",
       "        -0.31109253, -0.29159811],\n",
       "       [ 2.44329444,  1.933192  ,  2.3520437 , ...,  2.71910458,\n",
       "        -0.31109253,  3.42937748],\n",
       "       [-0.40251954, -0.39828521, -0.40514652, ...,  0.01289966,\n",
       "        -0.31109253, -0.29159811]])"
      ]
     },
     "execution_count": 9,
     "metadata": {},
     "output_type": "execute_result"
    }
   ],
   "source": [
    "X_train_preprocessed"
   ]
  },
  {
   "cell_type": "code",
   "execution_count": 10,
   "id": "99f348e2-c4ad-4f21-b0a1-676f24dd7831",
   "metadata": {
    "tags": []
   },
   "outputs": [],
   "source": [
    "\n",
    "# # Get the column names after one-hot encoding\n",
    "# categorical_encoded_columns = preprocessor.named_transformers_['cat']\\\n",
    "#                                     .get_feature_names_out(input_features=categorical_columns)"
   ]
  },
  {
   "cell_type": "code",
   "execution_count": 11,
   "id": "90850d30-a299-4110-b772-22eac79fe0c6",
   "metadata": {
    "tags": []
   },
   "outputs": [],
   "source": [
    "\n",
    "\n",
    "\n",
    "# # Convert X_train_preprocessed and X_test_preprocessed to DataFrames\n",
    "\n",
    "# X_train_preprocessed_df = pd.DataFrame(X_train_preprocessed.toarray(), columns=np.concatenate([numeric_columns, categorical_encoded_columns]))\n",
    "# X_test_preprocessed_df = pd.DataFrame(X_test_preprocessed.toarray(), columns=np.concatenate([numeric_columns, categorical_encoded_columns]))\n",
    "\n",
    "X_train_preprocessed_df = pd.DataFrame(X_train_preprocessed, columns=np.concatenate([numeric_columns]))\n",
    "X_test_preprocessed_df = pd.DataFrame(X_test_preprocessed, columns=np.concatenate([numeric_columns]))\n",
    "\n",
    "\n",
    "\n",
    "# X_train_preprocessed_df = pd.DataFrame(X_train_preprocessed.toarray(), columns=np.concatenate([numeric_columns]))\n",
    "# X_test_preprocessed_df = pd.DataFrame(X_test_preprocessed.toarray(), columns=np.concatenate([numeric_columns]))\n",
    "\n",
    "\n",
    "# X_train_preprocessed_df = X_train_preprocessed_df[column_names_raw]\n",
    "# X_test_preprocessed_df = X_test_preprocessed_df[column_names_raw]\n",
    "\n"
   ]
  },
  {
   "cell_type": "code",
   "execution_count": 12,
   "id": "ed0cb791-9b51-45c6-ba23-b43ff93a3041",
   "metadata": {
    "tags": []
   },
   "outputs": [],
   "source": [
    "# scoring=make_scorer(lambda y_true, y_pred: -mean_squared_error(y_true, y_pred, squared=False))\n",
    "\n",
    "\n",
    "scoring = 'roc_auc_ovr_weighted'"
   ]
  },
  {
   "cell_type": "markdown",
   "id": "c3a66f44-f22d-4d43-81b1-1073d121c598",
   "metadata": {},
   "source": [
    "# Models"
   ]
  },
  {
   "cell_type": "code",
   "execution_count": 13,
   "id": "d3704928-f03e-4f5c-bd0d-0ff7a39c5827",
   "metadata": {
    "tags": []
   },
   "outputs": [
    {
     "name": "stdout",
     "output_type": "stream",
     "text": [
      "Fitting 5 folds for each of 1152 candidates, totalling 5760 fits\n",
      "best_params: {'colsample_bytree': 0.8, 'gamma': 0, 'learning_rate': 0.01, 'max_depth': 7, 'min_child_weight': 1, 'n_estimators': 800, 'random_state': 42, 'subsample': 1.0}\n",
      "eval_metrics: {'f1_weighted': 0.9970266322461073, 'auc_weighted': 0.9999398694500884, 'accuracy_score': 0.9970384995064165, 'balanced_accuracy_score': 0.989808362369338, 'precision_score': 0.9970336550774833, 'recall_score': 0.9970384995064165, 'jaccard_score': 0.9941242530904206}\n",
      "Success of xgboost!\n"
     ]
    }
   ],
   "source": [
    "######### XGBoost #########\n",
    "\n",
    "# best_xgb_file = get_absolute_path(\n",
    "#     file_name = 'best_xgb_model.joblib'\n",
    "#     , rel_path = 'results'\n",
    "# )\n",
    "\n",
    "best_xgb_file =  path_ + '\\\\results' + '\\\\best_xgb_model.joblib'\n",
    "\n",
    "\n",
    "xgb_result = hyperparameter_tuning(\n",
    "        X_train=X_train_preprocessed_df,\n",
    "        y_train=y_train,\n",
    "        X_test=X_test_preprocessed_df,\n",
    "        y_test=y_test,\n",
    "        param_grid={\n",
    "            'max_depth': [3, 5, 7],\n",
    "            'learning_rate': [0.1, 0.01],\n",
    "            'n_estimators': [100, 200, 500, 800],\n",
    "            'subsample': [0.8, 1.0],\n",
    "            'colsample_bytree': [0.8, 1.0],\n",
    "            'gamma': [0, 0.1, 0.5],\n",
    "            'min_child_weight': [1, 5, 10, 20],\n",
    "            'random_state': [RANDOM_SEED]\n",
    "        },\n",
    "        model=xgb.XGBClassifier(objective='multi:softmax', random_state=RANDOM_SEED),\n",
    "        scoring=scoring,\n",
    "        eval_func=compute_metrics,\n",
    "        file_path=best_xgb_file,\n",
    "        cv=5\n",
    ") \n",
    "\n",
    "\n",
    "print(\"Success of xgboost!\")\n"
   ]
  },
  {
   "cell_type": "code",
   "execution_count": 14,
   "id": "6f83400b-5936-4804-a23a-8f1fa815bd50",
   "metadata": {},
   "outputs": [],
   "source": [
    "# xgb_result"
   ]
  },
  {
   "cell_type": "code",
   "execution_count": 15,
   "id": "91bb70c2-b8a9-4859-b574-63507f2984d1",
   "metadata": {},
   "outputs": [
    {
     "data": {
      "text/plain": [
       "'F:\\\\2022_Paper_03232023\\\\10 Room Occupancy Estimation\\\\Code\\\\results\\\\xgb_result.json'"
      ]
     },
     "execution_count": 15,
     "metadata": {},
     "output_type": "execute_result"
    }
   ],
   "source": [
    "path_ + '\\\\results' + \"\\\\xgb_result.json\""
   ]
  },
  {
   "cell_type": "code",
   "execution_count": 16,
   "id": "2486632f-8f42-4303-b93d-4099dbb90b24",
   "metadata": {
    "tags": []
   },
   "outputs": [],
   "source": [
    "# import json\n",
    "  \n",
    "# with open('xgb_result.txt', 'w') as convert_file:\n",
    "#      convert_file.write(json.dumps(str(xgb_result)))"
   ]
  },
  {
   "cell_type": "code",
   "execution_count": 17,
   "id": "5ac3d07e-8184-4b04-951d-1869cc071420",
   "metadata": {},
   "outputs": [],
   "source": [
    "# 'xgb_result.txt'"
   ]
  },
  {
   "cell_type": "code",
   "execution_count": 18,
   "id": "80aa26f1-da32-4aee-b0d4-08a38bfbc9a1",
   "metadata": {
    "tags": []
   },
   "outputs": [],
   "source": [
    "# with open((path_ + '\\\\results' + \"\\\\xgb_result.json\"), \"w\") as outfile:\n",
    "#     json.dump(xgb_result, outfile)\n"
   ]
  },
  {
   "cell_type": "code",
   "execution_count": 19,
   "id": "64dd8b3b-2e7d-453d-ad57-e9a2d626953a",
   "metadata": {
    "tags": []
   },
   "outputs": [
    {
     "name": "stdout",
     "output_type": "stream",
     "text": [
      "Fitting 5 folds for each of 240 candidates, totalling 1200 fits\n"
     ]
    },
    {
     "name": "stderr",
     "output_type": "stream",
     "text": [
      "D:\\anaconda3\\Lib\\site-packages\\sklearn\\model_selection\\_validation.py:425: FitFailedWarning: \n",
      "300 fits failed out of a total of 1200.\n",
      "The score on these train-test partitions for these parameters will be set to nan.\n",
      "If these failures are not expected, you can try to debug them by setting error_score='raise'.\n",
      "\n",
      "Below are more details about the failures:\n",
      "--------------------------------------------------------------------------------\n",
      "300 fits failed with the following error:\n",
      "Traceback (most recent call last):\n",
      "  File \"D:\\anaconda3\\Lib\\site-packages\\sklearn\\model_selection\\_validation.py\", line 732, in _fit_and_score\n",
      "    estimator.fit(X_train, y_train, **fit_params)\n",
      "  File \"D:\\anaconda3\\Lib\\site-packages\\sklearn\\base.py\", line 1144, in wrapper\n",
      "    estimator._validate_params()\n",
      "  File \"D:\\anaconda3\\Lib\\site-packages\\sklearn\\base.py\", line 637, in _validate_params\n",
      "    validate_parameter_constraints(\n",
      "  File \"D:\\anaconda3\\Lib\\site-packages\\sklearn\\utils\\_param_validation.py\", line 95, in validate_parameter_constraints\n",
      "    raise InvalidParameterError(\n",
      "sklearn.utils._param_validation.InvalidParameterError: The 'min_samples_split' parameter of RandomForestClassifier must be an int in the range [2, inf) or a float in the range (0.0, 1.0]. Got 1 instead.\n",
      "\n",
      "  warnings.warn(some_fits_failed_message, FitFailedWarning)\n",
      "D:\\anaconda3\\Lib\\site-packages\\sklearn\\model_selection\\_search.py:976: UserWarning: One or more of the test scores are non-finite: [       nan        nan        nan        nan 0.9999805  0.99998155\n",
      " 0.99997833 0.99998125 0.99997271 0.99997634 0.99997911 0.99997792\n",
      " 0.99997158 0.99997643 0.99997604 0.99997727        nan        nan\n",
      "        nan        nan 0.99997785 0.99997835 0.99997962 0.99998041\n",
      " 0.99997449 0.99997499 0.99997785 0.99997775 0.99997028 0.99997571\n",
      " 0.99997629 0.99997588        nan        nan        nan        nan\n",
      " 0.99996934 0.9999722  0.99997204 0.9999726  0.99996934 0.9999722\n",
      " 0.99997204 0.9999726  0.99996298 0.99997113 0.99997171 0.99997252\n",
      "        nan        nan        nan        nan 0.9996307  0.99970469\n",
      " 0.99974257 0.99977235 0.9996307  0.99970469 0.99974257 0.99977235\n",
      " 0.9996307  0.99970469 0.99974257 0.99977235        nan        nan\n",
      "        nan        nan 0.99963729 0.99970493 0.99974067 0.99977309\n",
      " 0.99963729 0.99970493 0.99974067 0.99977309 0.99963729 0.99970493\n",
      " 0.99974067 0.99977309        nan        nan        nan        nan\n",
      " 0.99963342 0.99970501 0.99974126 0.9997712  0.99963342 0.99970501\n",
      " 0.99974126 0.9997712  0.99963342 0.99970501 0.99974126 0.9997712\n",
      "        nan        nan        nan        nan 0.99994746 0.99994663\n",
      " 0.99994768 0.99995004 0.99994664 0.99994882 0.99994834 0.99995126\n",
      " 0.99994685 0.99994432 0.99994326 0.99994587        nan        nan\n",
      "        nan        nan 0.99994425 0.99994678 0.99994791 0.99994973\n",
      " 0.99994293 0.99994841 0.99994801 0.99995005 0.99994718 0.99994535\n",
      " 0.99994348 0.99994604        nan        nan        nan        nan\n",
      " 0.99993046 0.9999367  0.99994089 0.9999431  0.99993046 0.9999367\n",
      " 0.99994089 0.9999431  0.99994093 0.99994144 0.99994104 0.99994153\n",
      "        nan        nan        nan        nan 0.99998057 0.99998201\n",
      " 0.9999782  0.9999794  0.99997283 0.99997758 0.99997916 0.99997866\n",
      " 0.99997164 0.99997554 0.99997531 0.9999767         nan        nan\n",
      "        nan        nan 0.99997758 0.99998027 0.99998061 0.99998077\n",
      " 0.999977   0.99997815 0.99997801 0.99997874 0.99997025 0.99997408\n",
      " 0.99997604 0.99997579        nan        nan        nan        nan\n",
      " 0.99996942 0.99997105 0.99997163 0.99997284 0.99996942 0.99997105\n",
      " 0.99997163 0.99997284 0.99996244 0.99997022 0.99997178 0.99997261\n",
      "        nan        nan        nan        nan 0.9999805  0.99998155\n",
      " 0.99997833 0.99998125 0.99997271 0.99997634 0.99997911 0.99997792\n",
      " 0.99997158 0.99997643 0.99997604 0.99997727        nan        nan\n",
      "        nan        nan 0.99997785 0.99997835 0.99997962 0.99998041\n",
      " 0.99997449 0.99997499 0.99997785 0.99997775 0.99997028 0.99997571\n",
      " 0.99997629 0.99997588        nan        nan        nan        nan\n",
      " 0.99996934 0.9999722  0.99997204 0.9999726  0.99996934 0.9999722\n",
      " 0.99997204 0.9999726  0.99996298 0.99997113 0.99997171 0.99997252]\n",
      "  warnings.warn(\n",
      "D:\\anaconda3\\Lib\\site-packages\\sklearn\\base.py:1151: DataConversionWarning: A column-vector y was passed when a 1d array was expected. Please change the shape of y to (n_samples,), for example using ravel().\n",
      "  return fit_method(estimator, *args, **kwargs)\n"
     ]
    },
    {
     "name": "stdout",
     "output_type": "stream",
     "text": [
      "best_params: {'max_depth': 10, 'min_samples_leaf': 1, 'min_samples_split': 2, 'n_estimators': 100, 'random_state': 42}\n"
     ]
    },
    {
     "name": "stderr",
     "output_type": "stream",
     "text": [
      "D:\\anaconda3\\Lib\\site-packages\\sklearn\\base.py:1151: DataConversionWarning: A column-vector y was passed when a 1d array was expected. Please change the shape of y to (n_samples,), for example using ravel().\n",
      "  return fit_method(estimator, *args, **kwargs)\n"
     ]
    },
    {
     "name": "stdout",
     "output_type": "stream",
     "text": [
      "eval_metrics: {'f1_weighted': 0.9985166722727276, 'auc_weighted': 0.9999593996313667, 'accuracy_score': 0.9985192497532083, 'balanced_accuracy_score': 0.9949041811846691, 'precision_score': 0.9985160034745045, 'recall_score': 0.9985192497532083, 'jaccard_score': 0.9970552887916172}\n",
      "Success of rf!\n"
     ]
    }
   ],
   "source": [
    "\n",
    "######### Random Forest #########\n",
    "\n",
    "# best_rf_file = get_absolute_path(\n",
    "#     file_name = 'best_rf_model.joblib'\n",
    "#     , rel_path = 'results'\n",
    "# )\n",
    "\n",
    "best_rf_file =  path_ + '\\\\results' + '\\\\best_rf_model.joblib'\n",
    "\n",
    "\n",
    "rf_result = hyperparameter_tuning(\n",
    "        X_train=X_train_preprocessed_df,\n",
    "        y_train=y_train,\n",
    "        X_test=X_test_preprocessed_df,\n",
    "        y_test=y_test,\n",
    "        param_grid={\n",
    "           'n_estimators': [50, 100, 200, 500],\n",
    "           'max_depth': [None, 3, 5, 10, 20],\n",
    "           'min_samples_split': [1, 2, 5, 10],\n",
    "            'min_samples_leaf': [1, 2, 4],\n",
    "            'random_state': [RANDOM_SEED]\n",
    "        },\n",
    "        model=RandomForestClassifier(random_state=RANDOM_SEED),\n",
    "        scoring=scoring,\n",
    "        eval_func=compute_metrics,\n",
    "        file_path=best_rf_file,\n",
    "        cv=5\n",
    ") \n",
    "\n",
    "print(\"Success of rf!\")\n",
    "\n"
   ]
  },
  {
   "cell_type": "code",
   "execution_count": null,
   "id": "1115ceee-9399-4479-ab1b-973caa2af5f8",
   "metadata": {},
   "outputs": [],
   "source": []
  },
  {
   "cell_type": "code",
   "execution_count": 20,
   "id": "32dcee4f-9796-49c8-99c3-53c930f88f63",
   "metadata": {
    "tags": []
   },
   "outputs": [],
   "source": [
    "# with open((path_ + '\\\\results' + \"\\\\rf_result.json\"), \"w\") as outfile:\n",
    "#     json.dump(str(rf_result), outfile)"
   ]
  },
  {
   "cell_type": "code",
   "execution_count": 21,
   "id": "2cea72de-1dd9-46ef-a542-9ccc9384345a",
   "metadata": {
    "tags": []
   },
   "outputs": [
    {
     "name": "stdout",
     "output_type": "stream",
     "text": [
      "Fitting 5 folds for each of 8 candidates, totalling 40 fits\n"
     ]
    },
    {
     "name": "stderr",
     "output_type": "stream",
     "text": [
      "D:\\anaconda3\\Lib\\site-packages\\sklearn\\neural_network\\_multilayer_perceptron.py:1102: DataConversionWarning: A column-vector y was passed when a 1d array was expected. Please change the shape of y to (n_samples, ), for example using ravel().\n",
      "  y = column_or_1d(y, warn=True)\n"
     ]
    },
    {
     "name": "stdout",
     "output_type": "stream",
     "text": [
      "best_params: {'activation': 'tanh', 'hidden_layer_sizes': (2000, 500), 'learning_rate': 'adaptive', 'random_state': 42}\n"
     ]
    },
    {
     "name": "stderr",
     "output_type": "stream",
     "text": [
      "D:\\anaconda3\\Lib\\site-packages\\sklearn\\neural_network\\_multilayer_perceptron.py:1102: DataConversionWarning: A column-vector y was passed when a 1d array was expected. Please change the shape of y to (n_samples, ), for example using ravel().\n",
      "  y = column_or_1d(y, warn=True)\n"
     ]
    },
    {
     "name": "stdout",
     "output_type": "stream",
     "text": [
      "eval_metrics: {'f1_weighted': 0.9970413059420704, 'auc_weighted': 0.9998849686481783, 'accuracy_score': 0.9970384995064165, 'balanced_accuracy_score': 0.991962308432314, 'precision_score': 0.9970754678816185, 'recall_score': 0.9970384995064165, 'jaccard_score': 0.9941652553325802}\n",
      "Success of MLP!\n"
     ]
    }
   ],
   "source": [
    "\n",
    "\n",
    "######### MLP #########\n",
    "\n",
    "# best_mlp_file = get_absolute_path(\n",
    "#     file_name = 'best_mlp_model.joblib'\n",
    "#     , rel_path = 'results'\n",
    "# )\n",
    "\n",
    "best_mlp_file =  path_ + '\\\\results' + '\\\\best_mlp_model.joblib'\n",
    "\n",
    "\n",
    "\n",
    "mlp_result = hyperparameter_tuning(\n",
    "        X_train=X_train_preprocessed_df,\n",
    "        y_train=y_train,\n",
    "        X_test=X_test_preprocessed_df,\n",
    "        y_test=y_test,\n",
    "        param_grid= {\n",
    "            'hidden_layer_sizes': list(zip([1000,2000, 3000, 5000], [300, 500, 800, 1000])),\n",
    "            #'max_iter': [50, 100],\n",
    "            'activation': ['tanh', 'tanh'], #'activation': ['tanh', 'relu'],\n",
    "            #'solver': ['sgd', 'adam'],\n",
    "            #'alpha': [0.0001, 0.05],\n",
    "            'learning_rate': ['adaptive'],\n",
    "            'random_state': [RANDOM_SEED]\n",
    "        },\n",
    "        model=MLPClassifier(random_state=RANDOM_SEED),\n",
    "        scoring=scoring,\n",
    "        eval_func=compute_metrics,\n",
    "        file_path=best_mlp_file,\n",
    "        cv=5\n",
    ") \n",
    "\n",
    "print(\"Success of MLP!\")\n",
    "\n"
   ]
  },
  {
   "cell_type": "code",
   "execution_count": 22,
   "id": "bf705505-00c7-4d85-803e-58f7beb5b979",
   "metadata": {},
   "outputs": [],
   "source": [
    "# with open((path_ + '\\\\results' + \"\\\\mlp_result.json\"), \"w\") as outfile:\n",
    "#     json.dump(str(mlp_result), outfile)"
   ]
  },
  {
   "cell_type": "code",
   "execution_count": 23,
   "id": "0afaec73-7277-4016-a55e-69d4548936c9",
   "metadata": {
    "tags": []
   },
   "outputs": [
    {
     "name": "stdout",
     "output_type": "stream",
     "text": [
      "Fitting 5 folds for each of 3 candidates, totalling 15 fits\n"
     ]
    },
    {
     "name": "stderr",
     "output_type": "stream",
     "text": [
      "D:\\anaconda3\\Lib\\site-packages\\sklearn\\utils\\validation.py:1184: DataConversionWarning: A column-vector y was passed when a 1d array was expected. Please change the shape of y to (n_samples, ), for example using ravel().\n",
      "  y = column_or_1d(y, warn=True)\n",
      "D:\\anaconda3\\Lib\\site-packages\\sklearn\\utils\\validation.py:1184: DataConversionWarning: A column-vector y was passed when a 1d array was expected. Please change the shape of y to (n_samples, ), for example using ravel().\n",
      "  y = column_or_1d(y, warn=True)\n",
      "D:\\anaconda3\\Lib\\site-packages\\sklearn\\utils\\validation.py:1184: DataConversionWarning: A column-vector y was passed when a 1d array was expected. Please change the shape of y to (n_samples, ), for example using ravel().\n",
      "  y = column_or_1d(y, warn=True)\n"
     ]
    },
    {
     "name": "stdout",
     "output_type": "stream",
     "text": [
      "best_params: {'loss': 'log_loss', 'penalty': 'elasticnet', 'random_state': 42}\n",
      "eval_metrics: {'f1_weighted': 0.981767346555007, 'auc_weighted': 0.9965431914818418, 'accuracy_score': 0.9817374136229022, 'balanced_accuracy_score': 0.941546419210126, 'precision_score': 0.981857068711013, 'recall_score': 0.9817374136229022, 'jaccard_score': 0.9662288136313761}\n",
      "Success of ElasticNet!\n"
     ]
    }
   ],
   "source": [
    "\n",
    "######### ElasticNet #########\n",
    "\n",
    "# best_lin_file = get_absolute_path(\n",
    "#     file_name = 'best_lin_model.joblib'\n",
    "#     , rel_path = 'results'\n",
    "# )\n",
    "\n",
    "best_lin_file =  path_ + '\\\\results' + '\\\\best_lin_model.joblib'\n",
    "\n",
    "\n",
    "lin_result = hyperparameter_tuning(\n",
    "        X_train=X_train_preprocessed_df,\n",
    "        y_train=y_train,\n",
    "        X_test=X_test_preprocessed_df,\n",
    "        y_test=y_test,\n",
    "        param_grid={\n",
    "            'loss': ['log_loss'],\n",
    "            'penalty': ['l2', 'l1', 'elasticnet'],\n",
    "            'random_state': [RANDOM_SEED]\n",
    "        },\n",
    "        model=SGDClassifier(random_state=RANDOM_SEED).fit(X_train_preprocessed_df,y_train),\n",
    "        scoring=scoring,\n",
    "        eval_func=compute_metrics,\n",
    "        file_path=best_lin_file,\n",
    "        cv=5\n",
    ") \n",
    "\n",
    "print(\"Success of ElasticNet!\")\n"
   ]
  },
  {
   "cell_type": "code",
   "execution_count": 24,
   "id": "a47c346b-0e10-4b47-abea-91b78150f58e",
   "metadata": {
    "tags": []
   },
   "outputs": [],
   "source": [
    "# with open((path_ + '\\\\results' + \"\\\\lin_result.json\"), \"w\") as outfile:\n",
    "#     json.dump(str(lin_result), outfile)"
   ]
  },
  {
   "cell_type": "code",
   "execution_count": null,
   "id": "cdb0eae5-89fc-478d-bc00-aee755650075",
   "metadata": {
    "tags": []
   },
   "outputs": [],
   "source": []
  },
  {
   "cell_type": "code",
   "execution_count": 25,
   "id": "097e4eaa-f783-4e47-ae0a-ab48f5a3ef6c",
   "metadata": {
    "tags": []
   },
   "outputs": [
    {
     "name": "stderr",
     "output_type": "stream",
     "text": [
      "D:\\anaconda3\\Lib\\site-packages\\sklearn\\preprocessing\\_label.py:97: DataConversionWarning: A column-vector y was passed when a 1d array was expected. Please change the shape of y to (n_samples, ), for example using ravel().\n",
      "  y = column_or_1d(y, warn=True)\n",
      "D:\\anaconda3\\Lib\\site-packages\\sklearn\\preprocessing\\_label.py:132: DataConversionWarning: A column-vector y was passed when a 1d array was expected. Please change the shape of y to (n_samples, ), for example using ravel().\n",
      "  y = column_or_1d(y, dtype=self.classes_.dtype, warn=True)\n"
     ]
    },
    {
     "name": "stdout",
     "output_type": "stream",
     "text": [
      "Fitting 5 folds for each of 400 candidates, totalling 2000 fits\n"
     ]
    },
    {
     "name": "stderr",
     "output_type": "stream",
     "text": [
      "D:\\anaconda3\\Lib\\site-packages\\sklearn\\preprocessing\\_label.py:97: DataConversionWarning: A column-vector y was passed when a 1d array was expected. Please change the shape of y to (n_samples, ), for example using ravel().\n",
      "  y = column_or_1d(y, warn=True)\n",
      "D:\\anaconda3\\Lib\\site-packages\\sklearn\\preprocessing\\_label.py:132: DataConversionWarning: A column-vector y was passed when a 1d array was expected. Please change the shape of y to (n_samples, ), for example using ravel().\n",
      "  y = column_or_1d(y, dtype=self.classes_.dtype, warn=True)\n"
     ]
    },
    {
     "name": "stdout",
     "output_type": "stream",
     "text": [
      "best_params: {'learning_rate': 0.1, 'max_depth': 7, 'n_estimators': 50, 'num_leaves': 31, 'random_state': 42}\n"
     ]
    },
    {
     "name": "stderr",
     "output_type": "stream",
     "text": [
      "D:\\anaconda3\\Lib\\site-packages\\sklearn\\preprocessing\\_label.py:97: DataConversionWarning: A column-vector y was passed when a 1d array was expected. Please change the shape of y to (n_samples, ), for example using ravel().\n",
      "  y = column_or_1d(y, warn=True)\n",
      "D:\\anaconda3\\Lib\\site-packages\\sklearn\\preprocessing\\_label.py:132: DataConversionWarning: A column-vector y was passed when a 1d array was expected. Please change the shape of y to (n_samples, ), for example using ravel().\n",
      "  y = column_or_1d(y, dtype=self.classes_.dtype, warn=True)\n"
     ]
    },
    {
     "name": "stdout",
     "output_type": "stream",
     "text": [
      "eval_metrics: {'f1_weighted': 0.9970295173893192, 'auc_weighted': 0.999939713061599, 'accuracy_score': 0.9970384995064165, 'balanced_accuracy_score': 0.9900696864111498, 'precision_score': 0.9970312679313816, 'recall_score': 0.9970384995064165, 'jaccard_score': 0.9941296880338865}\n",
      "Success of LightGBM!\n"
     ]
    }
   ],
   "source": [
    "\n",
    "######### lightGBM #########\n",
    "\n",
    "## rename the features for an feature name error (only for lightGBM).\n",
    "# import re\n",
    "# X_train_preprocessed_df = X_train_preprocessed_df.rename(columns = lambda x:re.sub('[^A-Za-z0-9_]+', '', x))\n",
    "# X_test_preprocessed_df = X_test_preprocessed_df.rename(columns = lambda x:re.sub('[^A-Za-z0-9_]+', '', x))\n",
    "\n",
    "\n",
    "# best_best_lightGBM_file = get_absolute_path(\n",
    "#     file_name = 'best_lightGBM_model.joblib'\n",
    "#     , rel_path = 'results'\n",
    "# )\n",
    "\n",
    "best_lightGBM_file =  path_ + '\\\\results' + '\\\\best_lightGBM_model.joblib'\n",
    "\n",
    "\n",
    "lightGBM_result = hyperparameter_tuning(\n",
    "        X_train=X_train_preprocessed_df,\n",
    "        y_train=y_train,\n",
    "        X_test=X_test_preprocessed_df,\n",
    "        y_test=y_test,\n",
    "        param_grid={\n",
    "                'max_depth': [3, 5, 7, 15],\n",
    "                'learning_rate': [0.5, 0.1, 0.01, 0.001],\n",
    "                'num_leaves': [20, 31, 50, 100,200],\n",
    "                'n_estimators': [50, 100, 200, 500, 800],\n",
    "                'random_state': [RANDOM_SEED]\n",
    "        },\n",
    "        model=lgb.LGBMClassifier(objective='multiclass', random_state=RANDOM_SEED).fit(X_train_preprocessed_df,y_train),\n",
    "        scoring=scoring,\n",
    "        eval_func=compute_metrics,\n",
    "        file_path=best_lightGBM_file,\n",
    "        cv=5\n",
    ") \n",
    "\n",
    "print(\"Success of LightGBM!\")\n"
   ]
  },
  {
   "cell_type": "code",
   "execution_count": 26,
   "id": "4e240cbb-4da3-442a-b128-7a009427a280",
   "metadata": {
    "tags": []
   },
   "outputs": [],
   "source": [
    "# with open((path_ + '\\\\results' + \"\\\\lightGBM_model.json\"), \"w\") as outfile:\n",
    "#     json.dump(str(lightGBM_result), outfile)"
   ]
  },
  {
   "cell_type": "code",
   "execution_count": 27,
   "id": "5f957150-0ae1-45a3-b805-9ae64c01333f",
   "metadata": {
    "tags": []
   },
   "outputs": [
    {
     "name": "stdout",
     "output_type": "stream",
     "text": [
      "Fitting 5 folds for each of 3 candidates, totalling 15 fits\n",
      "best_params: {'solver': 'lsqr'}\n",
      "eval_metrics: {'f1_weighted': 0.9815939195291642, 'auc_weighted': 0.997138502876409, 'accuracy_score': 0.9817374136229022, 'balanced_accuracy_score': 0.9421563241817011, 'precision_score': 0.9820144958356644, 'recall_score': 0.9817374136229022, 'jaccard_score': 0.9658375549147866}\n",
      "Success of LinearDiscriminantAnalysis!\n"
     ]
    },
    {
     "name": "stderr",
     "output_type": "stream",
     "text": [
      "D:\\anaconda3\\Lib\\site-packages\\sklearn\\utils\\validation.py:1184: DataConversionWarning: A column-vector y was passed when a 1d array was expected. Please change the shape of y to (n_samples, ), for example using ravel().\n",
      "  y = column_or_1d(y, warn=True)\n",
      "D:\\anaconda3\\Lib\\site-packages\\sklearn\\utils\\validation.py:1184: DataConversionWarning: A column-vector y was passed when a 1d array was expected. Please change the shape of y to (n_samples, ), for example using ravel().\n",
      "  y = column_or_1d(y, warn=True)\n"
     ]
    }
   ],
   "source": [
    "######### LinearDiscriminantAnalysis #########\n",
    "\n",
    "\n",
    "best_LinearDiscriminantAnalysis_file =  path_ + '\\\\results' + '\\\\best_LinearDiscriminantAnalysis_model.joblib'\n",
    "\n",
    "\n",
    "LDA_result = hyperparameter_tuning(\n",
    "        X_train=X_train_preprocessed_df,\n",
    "        y_train=y_train,\n",
    "        X_test=X_test_preprocessed_df,\n",
    "        y_test=y_test,\n",
    "        param_grid={\n",
    "            'solver': ['svd', 'lsqr', 'eigen']\n",
    "\n",
    "        },\n",
    "        model=LinearDiscriminantAnalysis(),\n",
    "        scoring=scoring,\n",
    "        eval_func=compute_metrics,\n",
    "        file_path=best_LinearDiscriminantAnalysis_file,\n",
    "        cv=5\n",
    ") \n",
    "\n",
    "print(\"Success of LinearDiscriminantAnalysis!\")\n",
    "\n"
   ]
  },
  {
   "cell_type": "code",
   "execution_count": 28,
   "id": "f8463d87-6d23-4747-be6b-e90e2473a825",
   "metadata": {
    "tags": []
   },
   "outputs": [
    {
     "name": "stdout",
     "output_type": "stream",
     "text": [
      "Fitting 5 folds for each of 4 candidates, totalling 20 fits\n"
     ]
    },
    {
     "name": "stderr",
     "output_type": "stream",
     "text": [
      "D:\\anaconda3\\Lib\\site-packages\\sklearn\\utils\\validation.py:1184: DataConversionWarning: A column-vector y was passed when a 1d array was expected. Please change the shape of y to (n_samples, ), for example using ravel().\n",
      "  y = column_or_1d(y, warn=True)\n"
     ]
    },
    {
     "name": "stdout",
     "output_type": "stream",
     "text": [
      "best_params: {'kernel': 'rbf'}\n"
     ]
    },
    {
     "name": "stderr",
     "output_type": "stream",
     "text": [
      "D:\\anaconda3\\Lib\\site-packages\\sklearn\\utils\\validation.py:1184: DataConversionWarning: A column-vector y was passed when a 1d array was expected. Please change the shape of y to (n_samples, ), for example using ravel().\n",
      "  y = column_or_1d(y, warn=True)\n"
     ]
    },
    {
     "name": "stdout",
     "output_type": "stream",
     "text": [
      "eval_metrics: {'f1_weighted': 0.9921396688109194, 'auc_weighted': 0.999511643538035, 'accuracy_score': 0.9921026653504442, 'balanced_accuracy_score': 0.9763461452150775, 'precision_score': 0.9921992974073819, 'recall_score': 0.9921026653504442, 'jaccard_score': 0.9848225340388622}\n",
      "Success of SVC!\n"
     ]
    }
   ],
   "source": [
    "######### SVC #########\n",
    "\n",
    "\n",
    "best_SVC_file =  path_ + '\\\\results' + '\\\\best_SVC_model.joblib'\n",
    "\n",
    "\n",
    "LDA_result = hyperparameter_tuning(\n",
    "        X_train=X_train_preprocessed_df,\n",
    "        y_train=y_train,\n",
    "        X_test=X_test_preprocessed_df,\n",
    "        y_test=y_test,\n",
    "        param_grid={\n",
    "            'kernel': ['linear', 'poly', 'rbf', 'sigmoid']\n",
    "           # 'n_estimators': [50, 100, 200, 500],\n",
    "           # 'max_depth': [None, 3, 5, 10, 20],\n",
    "           # 'min_samples_split': [1, 2, 5, 10],\n",
    "            # 'min_samples_leaf': [1, 2, 4],\n",
    "            # 'random_state': [RANDOM_SEED]\n",
    "        },\n",
    "        model=SVC(probability = True),\n",
    "        scoring=scoring,\n",
    "        eval_func=compute_metrics,\n",
    "        file_path=best_SVC_file,\n",
    "        cv=5\n",
    ") \n",
    "\n",
    "print(\"Success of SVC!\")\n",
    "\n"
   ]
  }
 ],
 "metadata": {
  "kernelspec": {
   "display_name": "Python 3 (ipykernel)",
   "language": "python",
   "name": "python3"
  },
  "language_info": {
   "codemirror_mode": {
    "name": "ipython",
    "version": 3
   },
   "file_extension": ".py",
   "mimetype": "text/x-python",
   "name": "python",
   "nbconvert_exporter": "python",
   "pygments_lexer": "ipython3",
   "version": "3.11.4"
  }
 },
 "nbformat": 4,
 "nbformat_minor": 5
}
